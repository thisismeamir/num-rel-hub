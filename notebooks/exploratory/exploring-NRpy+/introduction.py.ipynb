{
 "cells": [
  {
   "metadata": {},
   "cell_type": "markdown",
   "source": [
    "# Introduction to NRpy+: A Practical Exploration\n",
    "SENR/NRpy+ is a new open-source, code package for numerical relativity that extends the previous implementations of the BSSN reference-metric formulation into a broader class of curvilinear systems, making it ideal for modeling physical configurations with approximate or exact symmetries.\n",
    "\n",
    "This notebook is a simple tour"
   ],
   "id": "fd3f317f42b2eb25"
  },
  {
   "cell_type": "code",
   "execution_count": null,
   "id": "initial_id",
   "metadata": {
    "collapsed": true
   },
   "outputs": [],
   "source": "!pip install"
  }
 ],
 "metadata": {
  "kernelspec": {
   "display_name": "Python 3",
   "language": "python",
   "name": "python3"
  },
  "language_info": {
   "codemirror_mode": {
    "name": "ipython",
    "version": 2
   },
   "file_extension": ".py",
   "mimetype": "text/x-python",
   "name": "python",
   "nbconvert_exporter": "python",
   "pygments_lexer": "ipython2",
   "version": "2.7.6"
  }
 },
 "nbformat": 4,
 "nbformat_minor": 5
}
